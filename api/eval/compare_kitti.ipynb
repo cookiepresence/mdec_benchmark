{
 "cells": [
  {
   "cell_type": "code",
   "execution_count": null,
   "metadata": {
    "collapsed": true,
    "pycharm": {
     "name": "#%%\n"
    }
   },
   "outputs": [],
   "source": [
    "# IMPORTS\n",
    "from pathlib import Path\n",
    "from typing import Sequence\n",
    "\n",
    "import matplotlib.pyplot as plt\n",
    "import pandas as pd\n",
    "from IPython.core.pylabtools import figsize\n",
    "from IPython.display import display\n",
    "\n",
    "from src import MODEL_ROOTS\n",
    "from src.tools import TableFormatter\n",
    "from src.utils import io"
   ]
  },
  {
   "cell_type": "code",
   "execution_count": null,
   "outputs": [],
   "source": [
    "# JUPYTER SETUP\n",
    "%load_ext autoreload\n",
    "%autoreload 2\n",
    "\n",
    "# NOTE: rcParams are optimized for dark mode, change colours to black if using light mode.\n",
    "%matplotlib inline\n",
    "figsize(15, 10)\n",
    "plt.rcParams.update({'font.size': 18, 'text.color': 'w', 'axes.edgecolor': 'w', 'axes.labelcolor': 'w', 'xtick.color': 'w', 'ytick.color': 'w'})"
   ],
   "metadata": {
    "collapsed": false,
    "pycharm": {
     "name": "#%%\n"
    }
   }
  },
  {
   "cell_type": "code",
   "execution_count": null,
   "outputs": [],
   "source": [
    "# HELPER FUNCTIONS\n",
    "def load_dfs(files: dict[str, Sequence[Path]]):\n",
    "    df = pd.json_normalize([io.load_yaml(f) for fs in files.values() for f in fs])\n",
    "    df.index = [f'{k}' for k, fs in files.items() for i, _ in enumerate(fs)]\n",
    "    return df"
   ],
   "metadata": {
    "collapsed": false,
    "pycharm": {
     "name": "#%%\n"
    }
   }
  },
  {
   "cell_type": "code",
   "execution_count": null,
   "outputs": [],
   "source": [
    "root = MODEL_ROOTS[-1]\n",
    "exp, split = 'benchmark', 'eigen_benchmark'\n",
    "ckpt, mode = 'best', '*'  # {best, last}, {stereo, mono, *}\n",
    "res_dir = 'results'\n",
    "fname = f'kitti_{split}_{ckpt}_{mode}.yaml'\n",
    "\n",
    "# models = ['garg', 'monodepth2_MS']\n",
    "models = []\n",
    "if not models:\n",
    "    fs = sorted(root.glob(f'{exp}/**/{res_dir}/{fname}'))\n",
    "    models = sorted({f.parents[2].stem for f in fs})\n",
    "\n",
    "print('Evaluation Models:', models)"
   ],
   "metadata": {
    "collapsed": false,
    "pycharm": {
     "name": "#%%\n"
    }
   }
  },
  {
   "cell_type": "code",
   "execution_count": null,
   "outputs": [],
   "source": [
    "# LOAD METRICS\n",
    "# We expect each model to have multiple available checkpoints. e.g. trained with different random seeds.\n",
    "# This is handled by `df.groupby(level=0)`. We report mean performance over all seeds.\n",
    "# StdDev may also be useful to check for outliers that failed to train for some reason.\n",
    "\n",
    "eval_files = {model: sorted(root.glob(f'{exp}/{model}/**/{res_dir}/{fname}')) for model in models}\n",
    "df = load_dfs(eval_files)\n",
    "df_agg = df.groupby(level=0)  # Group all metrics from different seeds for each model\n",
    "\n",
    "df_mean = df_agg.agg('mean').reindex(models)\n",
    "df_mean.columns.name = 'Mean'\n",
    "\n",
    "df_std = df_agg.agg('std').reindex(models)\n",
    "df_std.columns.name = 'StdDev'"
   ],
   "metadata": {
    "collapsed": false,
    "pycharm": {
     "name": "#%%\n"
    }
   }
  },
  {
   "cell_type": "code",
   "execution_count": null,
   "outputs": [],
   "source": [
    "# SHOW DATAFRAMES\n",
    "display(df)  # Might be quite large, comment out if needed.\n",
    "display(df_mean)\n",
    "display(df_std)"
   ],
   "metadata": {
    "collapsed": false,
    "pycharm": {
     "name": "#%%\n"
    }
   }
  },
  {
   "cell_type": "code",
   "execution_count": null,
   "outputs": [],
   "source": [
    "# LATEX TABLES WITH BEST MODEL\n",
    "\n",
    "metrics = [1, -1, -1, -1, -1, 1, 1, 1, -1, 1, 1, 1, 1] if split == 'eigen' else \\\n",
    "    [1, -1, -1, -1, -1, -1, -1, -1, -1, -1, -1, 1, 1, 1, 1]\n",
    "\n",
    "precision = 4 if split == 'eigen' else 2\n",
    "print(TableFormatter.from_df(df_mean, metrics=metrics).to_latex(precision=precision, caption=f'Kitti {split} performance.'))"
   ],
   "metadata": {
    "collapsed": false,
    "pycharm": {
     "name": "#%%\n"
    }
   }
  }
 ],
 "metadata": {
  "kernelspec": {
   "display_name": "Python 3",
   "language": "python",
   "name": "python3"
  },
  "language_info": {
   "codemirror_mode": {
    "name": "ipython",
    "version": 2
   },
   "file_extension": ".py",
   "mimetype": "text/x-python",
   "name": "python",
   "nbconvert_exporter": "python",
   "pygments_lexer": "ipython2",
   "version": "2.7.6"
  }
 },
 "nbformat": 4,
 "nbformat_minor": 0
}